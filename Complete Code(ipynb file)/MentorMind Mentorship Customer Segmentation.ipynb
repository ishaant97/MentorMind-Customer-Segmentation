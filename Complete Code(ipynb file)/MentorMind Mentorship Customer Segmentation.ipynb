{
 "cells": [
  {
   "cell_type": "markdown",
   "id": "fb2c07c1",
   "metadata": {},
   "source": [
    "### Importing required libraries"
   ]
  },
  {
   "cell_type": "code",
   "execution_count": 2,
   "id": "7292dff0",
   "metadata": {},
   "outputs": [],
   "source": [
    "import pandas as pd\n",
    "import numpy as np"
   ]
  },
  {
   "cell_type": "markdown",
   "id": "761ed048",
   "metadata": {},
   "source": [
    "### Loading the provided dataset"
   ]
  },
  {
   "cell_type": "code",
   "execution_count": 3,
   "id": "f2459f53",
   "metadata": {},
   "outputs": [
    {
     "data": {
      "text/html": [
       "<div>\n",
       "<style scoped>\n",
       "    .dataframe tbody tr th:only-of-type {\n",
       "        vertical-align: middle;\n",
       "    }\n",
       "\n",
       "    .dataframe tbody tr th {\n",
       "        vertical-align: top;\n",
       "    }\n",
       "\n",
       "    .dataframe thead th {\n",
       "        text-align: right;\n",
       "    }\n",
       "</style>\n",
       "<table border=\"1\" class=\"dataframe\">\n",
       "  <thead>\n",
       "    <tr style=\"text-align: right;\">\n",
       "      <th></th>\n",
       "      <th>InvoiceNo</th>\n",
       "      <th>StockCode</th>\n",
       "      <th>Description</th>\n",
       "      <th>Quantity</th>\n",
       "      <th>InvoiceDate</th>\n",
       "      <th>UnitPrice</th>\n",
       "      <th>CustomerID</th>\n",
       "      <th>Country</th>\n",
       "    </tr>\n",
       "  </thead>\n",
       "  <tbody>\n",
       "    <tr>\n",
       "      <th>0</th>\n",
       "      <td>536365</td>\n",
       "      <td>85123A</td>\n",
       "      <td>WHITE HANGING HEART T-LIGHT HOLDER</td>\n",
       "      <td>6</td>\n",
       "      <td>2010-12-01 08:26:00</td>\n",
       "      <td>2.55</td>\n",
       "      <td>17850.0</td>\n",
       "      <td>United Kingdom</td>\n",
       "    </tr>\n",
       "    <tr>\n",
       "      <th>1</th>\n",
       "      <td>536365</td>\n",
       "      <td>71053</td>\n",
       "      <td>WHITE METAL LANTERN</td>\n",
       "      <td>6</td>\n",
       "      <td>2010-12-01 08:26:00</td>\n",
       "      <td>3.39</td>\n",
       "      <td>17850.0</td>\n",
       "      <td>United Kingdom</td>\n",
       "    </tr>\n",
       "    <tr>\n",
       "      <th>2</th>\n",
       "      <td>536365</td>\n",
       "      <td>84406B</td>\n",
       "      <td>CREAM CUPID HEARTS COAT HANGER</td>\n",
       "      <td>8</td>\n",
       "      <td>2010-12-01 08:26:00</td>\n",
       "      <td>2.75</td>\n",
       "      <td>17850.0</td>\n",
       "      <td>United Kingdom</td>\n",
       "    </tr>\n",
       "    <tr>\n",
       "      <th>3</th>\n",
       "      <td>536365</td>\n",
       "      <td>84029G</td>\n",
       "      <td>KNITTED UNION FLAG HOT WATER BOTTLE</td>\n",
       "      <td>6</td>\n",
       "      <td>2010-12-01 08:26:00</td>\n",
       "      <td>3.39</td>\n",
       "      <td>17850.0</td>\n",
       "      <td>United Kingdom</td>\n",
       "    </tr>\n",
       "    <tr>\n",
       "      <th>4</th>\n",
       "      <td>536365</td>\n",
       "      <td>84029E</td>\n",
       "      <td>RED WOOLLY HOTTIE WHITE HEART.</td>\n",
       "      <td>6</td>\n",
       "      <td>2010-12-01 08:26:00</td>\n",
       "      <td>3.39</td>\n",
       "      <td>17850.0</td>\n",
       "      <td>United Kingdom</td>\n",
       "    </tr>\n",
       "  </tbody>\n",
       "</table>\n",
       "</div>"
      ],
      "text/plain": [
       "  InvoiceNo StockCode                          Description  Quantity  \\\n",
       "0    536365    85123A   WHITE HANGING HEART T-LIGHT HOLDER         6   \n",
       "1    536365     71053                  WHITE METAL LANTERN         6   \n",
       "2    536365    84406B       CREAM CUPID HEARTS COAT HANGER         8   \n",
       "3    536365    84029G  KNITTED UNION FLAG HOT WATER BOTTLE         6   \n",
       "4    536365    84029E       RED WOOLLY HOTTIE WHITE HEART.         6   \n",
       "\n",
       "          InvoiceDate  UnitPrice  CustomerID         Country  \n",
       "0 2010-12-01 08:26:00       2.55     17850.0  United Kingdom  \n",
       "1 2010-12-01 08:26:00       3.39     17850.0  United Kingdom  \n",
       "2 2010-12-01 08:26:00       2.75     17850.0  United Kingdom  \n",
       "3 2010-12-01 08:26:00       3.39     17850.0  United Kingdom  \n",
       "4 2010-12-01 08:26:00       3.39     17850.0  United Kingdom  "
      ]
     },
     "execution_count": 3,
     "metadata": {},
     "output_type": "execute_result"
    }
   ],
   "source": [
    "df = pd.read_excel(\"Online Retail.xlsx\")\n",
    "df.head()"
   ]
  },
  {
   "cell_type": "markdown",
   "id": "f074cbcf",
   "metadata": {},
   "source": [
    "### Inspecting the dataset"
   ]
  },
  {
   "cell_type": "code",
   "execution_count": 4,
   "id": "c0cacfb7",
   "metadata": {},
   "outputs": [
    {
     "data": {
      "text/plain": [
       "(541909, 8)"
      ]
     },
     "execution_count": 4,
     "metadata": {},
     "output_type": "execute_result"
    }
   ],
   "source": [
    "#shape tell how many rows and columns are in the dataset\n",
    "df.shape"
   ]
  },
  {
   "cell_type": "code",
   "execution_count": 5,
   "id": "1797de46",
   "metadata": {},
   "outputs": [
    {
     "name": "stdout",
     "output_type": "stream",
     "text": [
      "<class 'pandas.core.frame.DataFrame'>\n",
      "RangeIndex: 541909 entries, 0 to 541908\n",
      "Data columns (total 8 columns):\n",
      " #   Column       Non-Null Count   Dtype         \n",
      "---  ------       --------------   -----         \n",
      " 0   InvoiceNo    541909 non-null  object        \n",
      " 1   StockCode    541909 non-null  object        \n",
      " 2   Description  540455 non-null  object        \n",
      " 3   Quantity     541909 non-null  int64         \n",
      " 4   InvoiceDate  541909 non-null  datetime64[ns]\n",
      " 5   UnitPrice    541909 non-null  float64       \n",
      " 6   CustomerID   406829 non-null  float64       \n",
      " 7   Country      541909 non-null  object        \n",
      "dtypes: datetime64[ns](1), float64(2), int64(1), object(4)\n",
      "memory usage: 33.1+ MB\n"
     ]
    }
   ],
   "source": [
    "#this tell all the information about the dataset\n",
    "df.info()"
   ]
  },
  {
   "cell_type": "code",
   "execution_count": 6,
   "id": "edf53c0e",
   "metadata": {},
   "outputs": [
    {
     "data": {
      "text/plain": [
       "InvoiceNo           0\n",
       "StockCode           0\n",
       "Description      1454\n",
       "Quantity            0\n",
       "InvoiceDate         0\n",
       "UnitPrice           0\n",
       "CustomerID     135080\n",
       "Country             0\n",
       "dtype: int64"
      ]
     },
     "execution_count": 6,
     "metadata": {},
     "output_type": "execute_result"
    }
   ],
   "source": [
    "#this tells the number missing value in each column\n",
    "df.isnull().sum()"
   ]
  },
  {
   "cell_type": "code",
   "execution_count": 7,
   "id": "a5376660",
   "metadata": {},
   "outputs": [
    {
     "data": {
      "text/plain": [
       "InvoiceNo       0.000000\n",
       "StockCode       0.000000\n",
       "Description     0.268311\n",
       "Quantity        0.000000\n",
       "InvoiceDate     0.000000\n",
       "UnitPrice       0.000000\n",
       "CustomerID     24.926694\n",
       "Country         0.000000\n",
       "dtype: float64"
      ]
     },
     "execution_count": 7,
     "metadata": {},
     "output_type": "execute_result"
    }
   ],
   "source": [
    "#this tells percentage of missing values in each column\n",
    "df.isnull().sum()/len(df) *100"
   ]
  },
  {
   "cell_type": "code",
   "execution_count": 8,
   "id": "c67274d3",
   "metadata": {},
   "outputs": [
    {
     "data": {
      "text/plain": [
       "38"
      ]
     },
     "execution_count": 8,
     "metadata": {},
     "output_type": "execute_result"
    }
   ],
   "source": [
    "#this tell what are the distinct countries present in the dataset\n",
    "df['Country'].nunique()"
   ]
  },
  {
   "cell_type": "markdown",
   "id": "0520dcff",
   "metadata": {},
   "source": [
    "### Data Cleaning"
   ]
  },
  {
   "cell_type": "code",
   "execution_count": 9,
   "id": "bc105d5b",
   "metadata": {
    "scrolled": true
   },
   "outputs": [],
   "source": [
    "#we have to do customer segmentation so the rows without customerID is useless so this line drops all the rows with missing customerId\n",
    "df.dropna(subset=['CustomerID'], inplace=True)"
   ]
  },
  {
   "cell_type": "code",
   "execution_count": 10,
   "id": "7f1f0234",
   "metadata": {},
   "outputs": [
    {
     "data": {
      "text/plain": [
       "InvoiceNo      0\n",
       "StockCode      0\n",
       "Description    0\n",
       "Quantity       0\n",
       "InvoiceDate    0\n",
       "UnitPrice      0\n",
       "CustomerID     0\n",
       "Country        0\n",
       "dtype: int64"
      ]
     },
     "execution_count": 10,
     "metadata": {},
     "output_type": "execute_result"
    }
   ],
   "source": [
    "df.isnull().sum()"
   ]
  },
  {
   "cell_type": "markdown",
   "id": "1eb35950",
   "metadata": {},
   "source": [
    "the above output show we have managed all the missing values"
   ]
  },
  {
   "cell_type": "code",
   "execution_count": 11,
   "id": "c049355c",
   "metadata": {},
   "outputs": [],
   "source": [
    "#this will remove all the orders where the quantity is less than 0, becuase the quantity can't be less than 0\n",
    "df = df[df['Quantity'] > 0]\n",
    "df = df[df['UnitPrice'] > 0]"
   ]
  },
  {
   "cell_type": "code",
   "execution_count": 12,
   "id": "83808a45",
   "metadata": {},
   "outputs": [],
   "source": [
    "#this will change the datatype of customerId to int\n",
    "df['CustomerID'] = df['CustomerID'].astype(int)"
   ]
  },
  {
   "cell_type": "code",
   "execution_count": 13,
   "id": "7699f560",
   "metadata": {},
   "outputs": [],
   "source": [
    "#this will help in resetting the index of the dataset\n",
    "df.reset_index(drop=True, inplace=True)"
   ]
  },
  {
   "cell_type": "code",
   "execution_count": 14,
   "id": "e18953ca",
   "metadata": {},
   "outputs": [
    {
     "data": {
      "text/plain": [
       "(397884, 8)"
      ]
     },
     "execution_count": 14,
     "metadata": {},
     "output_type": "execute_result"
    }
   ],
   "source": [
    "df.shape"
   ]
  },
  {
   "cell_type": "markdown",
   "id": "8c142527",
   "metadata": {},
   "source": [
    "now the dataset is cleaned and ready for feature engineering"
   ]
  },
  {
   "cell_type": "markdown",
   "id": "8c2f02ad",
   "metadata": {},
   "source": [
    "### Featuring Engineering"
   ]
  },
  {
   "cell_type": "markdown",
   "id": "f1d8aac9",
   "metadata": {},
   "source": [
    "Now we'll calculate Recency, Frequency, Monetary\n",
    "\n",
    "Recency - This tells us how recently a customer has purchased(days since last purchase has done by the customer).\n",
    "\n",
    "Frequency - How often the customer has purchased.\n",
    "\n",
    "Monetary - This tell how much money the customer has spent."
   ]
  },
  {
   "cell_type": "code",
   "execution_count": 15,
   "id": "ba2deaa1",
   "metadata": {},
   "outputs": [
    {
     "data": {
      "text/html": [
       "<div>\n",
       "<style scoped>\n",
       "    .dataframe tbody tr th:only-of-type {\n",
       "        vertical-align: middle;\n",
       "    }\n",
       "\n",
       "    .dataframe tbody tr th {\n",
       "        vertical-align: top;\n",
       "    }\n",
       "\n",
       "    .dataframe thead th {\n",
       "        text-align: right;\n",
       "    }\n",
       "</style>\n",
       "<table border=\"1\" class=\"dataframe\">\n",
       "  <thead>\n",
       "    <tr style=\"text-align: right;\">\n",
       "      <th></th>\n",
       "      <th>Recency</th>\n",
       "      <th>Frequency</th>\n",
       "      <th>Monetary</th>\n",
       "    </tr>\n",
       "    <tr>\n",
       "      <th>CustomerID</th>\n",
       "      <th></th>\n",
       "      <th></th>\n",
       "      <th></th>\n",
       "    </tr>\n",
       "  </thead>\n",
       "  <tbody>\n",
       "    <tr>\n",
       "      <th>12346</th>\n",
       "      <td>326</td>\n",
       "      <td>1</td>\n",
       "      <td>77183.60</td>\n",
       "    </tr>\n",
       "    <tr>\n",
       "      <th>12347</th>\n",
       "      <td>2</td>\n",
       "      <td>7</td>\n",
       "      <td>4310.00</td>\n",
       "    </tr>\n",
       "    <tr>\n",
       "      <th>12348</th>\n",
       "      <td>75</td>\n",
       "      <td>4</td>\n",
       "      <td>1797.24</td>\n",
       "    </tr>\n",
       "    <tr>\n",
       "      <th>12349</th>\n",
       "      <td>19</td>\n",
       "      <td>1</td>\n",
       "      <td>1757.55</td>\n",
       "    </tr>\n",
       "    <tr>\n",
       "      <th>12350</th>\n",
       "      <td>310</td>\n",
       "      <td>1</td>\n",
       "      <td>334.40</td>\n",
       "    </tr>\n",
       "  </tbody>\n",
       "</table>\n",
       "</div>"
      ],
      "text/plain": [
       "            Recency  Frequency  Monetary\n",
       "CustomerID                              \n",
       "12346           326          1  77183.60\n",
       "12347             2          7   4310.00\n",
       "12348            75          4   1797.24\n",
       "12349            19          1   1757.55\n",
       "12350           310          1    334.40"
      ]
     },
     "execution_count": 15,
     "metadata": {},
     "output_type": "execute_result"
    }
   ],
   "source": [
    "import datetime as dt\n",
    "reference_date = df['InvoiceDate'].max() + dt.timedelta(days=1)\n",
    "\n",
    "rfm = df.groupby('CustomerID').agg({\n",
    "    'InvoiceDate': lambda x: (reference_date - x.max()).days,\n",
    "    'InvoiceNo': 'nunique',\n",
    "    'Quantity': lambda x: (x * df.loc[x.index, 'UnitPrice']).sum()\n",
    "})\n",
    "\n",
    "rfm.columns = ['Recency', 'Frequency', 'Monetary']\n",
    "\n",
    "rfm.head()"
   ]
  },
  {
   "cell_type": "markdown",
   "id": "aedd20d6",
   "metadata": {},
   "source": [
    "###  Normalizing rmf"
   ]
  },
  {
   "cell_type": "markdown",
   "id": "775d35f1",
   "metadata": {},
   "source": [
    "Why normalizing rmf is necessary?\n",
    "\n",
    "Because right now the recency, frequency and monetary are on very different scales, monetary is very large as compared to others in the table so, if we don't normalize or standardize rmf, K means use euclidean distance, so monetary will dominate."
   ]
  },
  {
   "cell_type": "code",
   "execution_count": 16,
   "id": "2bf8f065",
   "metadata": {},
   "outputs": [
    {
     "data": {
      "text/html": [
       "<div>\n",
       "<style scoped>\n",
       "    .dataframe tbody tr th:only-of-type {\n",
       "        vertical-align: middle;\n",
       "    }\n",
       "\n",
       "    .dataframe tbody tr th {\n",
       "        vertical-align: top;\n",
       "    }\n",
       "\n",
       "    .dataframe thead th {\n",
       "        text-align: right;\n",
       "    }\n",
       "</style>\n",
       "<table border=\"1\" class=\"dataframe\">\n",
       "  <thead>\n",
       "    <tr style=\"text-align: right;\">\n",
       "      <th></th>\n",
       "      <th>Recency</th>\n",
       "      <th>Frequency</th>\n",
       "      <th>Monetary</th>\n",
       "    </tr>\n",
       "    <tr>\n",
       "      <th>CustomerID</th>\n",
       "      <th></th>\n",
       "      <th></th>\n",
       "      <th></th>\n",
       "    </tr>\n",
       "  </thead>\n",
       "  <tbody>\n",
       "    <tr>\n",
       "      <th>12346</th>\n",
       "      <td>2.334574</td>\n",
       "      <td>-0.425097</td>\n",
       "      <td>8.358668</td>\n",
       "    </tr>\n",
       "    <tr>\n",
       "      <th>12347</th>\n",
       "      <td>-0.905340</td>\n",
       "      <td>0.354417</td>\n",
       "      <td>0.250966</td>\n",
       "    </tr>\n",
       "    <tr>\n",
       "      <th>12348</th>\n",
       "      <td>-0.175360</td>\n",
       "      <td>-0.035340</td>\n",
       "      <td>-0.028596</td>\n",
       "    </tr>\n",
       "    <tr>\n",
       "      <th>12349</th>\n",
       "      <td>-0.735345</td>\n",
       "      <td>-0.425097</td>\n",
       "      <td>-0.033012</td>\n",
       "    </tr>\n",
       "    <tr>\n",
       "      <th>12350</th>\n",
       "      <td>2.174578</td>\n",
       "      <td>-0.425097</td>\n",
       "      <td>-0.191347</td>\n",
       "    </tr>\n",
       "  </tbody>\n",
       "</table>\n",
       "</div>"
      ],
      "text/plain": [
       "             Recency  Frequency  Monetary\n",
       "CustomerID                               \n",
       "12346       2.334574  -0.425097  8.358668\n",
       "12347      -0.905340   0.354417  0.250966\n",
       "12348      -0.175360  -0.035340 -0.028596\n",
       "12349      -0.735345  -0.425097 -0.033012\n",
       "12350       2.174578  -0.425097 -0.191347"
      ]
     },
     "execution_count": 16,
     "metadata": {},
     "output_type": "execute_result"
    }
   ],
   "source": [
    "from sklearn.preprocessing import StandardScaler\n",
    "\n",
    "scaler = StandardScaler()\n",
    "\n",
    "rfm_scaled = scaler.fit_transform(rfm)\n",
    "\n",
    "rfm_scaled = pd.DataFrame(rfm_scaled, index=rfm.index, columns=rfm.columns)\n",
    "\n",
    "rfm_scaled.head()"
   ]
  },
  {
   "cell_type": "markdown",
   "id": "9bf47099",
   "metadata": {},
   "source": [
    "### Elbow method to determine the optimal number of clusters(k)"
   ]
  },
  {
   "cell_type": "code",
   "execution_count": 17,
   "id": "cf63fccc",
   "metadata": {},
   "outputs": [
    {
     "data": {
      "image/png": "[encoded data removed]",
      "text/plain": [
       "<Figure size 576x360 with 1 Axes>"
      ]
     },
     "metadata": {
      "needs_background": "light"
     },
     "output_type": "display_data"
    }
   ],
   "source": [
    "from sklearn.cluster import KMeans\n",
    "import matplotlib.pyplot as plt\n",
    "\n",
    "wcss = []  # within-cluster sum of squares\n",
    "\n",
    "# Try k values from 1 to 10\n",
    "for k in range(1, 11):\n",
    "    kmeans = KMeans(n_clusters=k, random_state=42, n_init=10)\n",
    "    kmeans.fit(rfm_scaled)\n",
    "    wcss.append(kmeans.inertia_)  # inertia_ = WCSS\n",
    "\n",
    "# Plot the elbow curve\n",
    "plt.figure(figsize=(8,5))\n",
    "plt.plot(range(1, 11), wcss, marker='o')\n",
    "plt.xlabel(\"Number of Clusters (k)\")\n",
    "plt.ylabel(\"WCSS\")\n",
    "plt.title(\"Elbow Method - Optimal k\")\n",
    "plt.show()"
   ]
  },
  {
   "cell_type": "markdown",
   "id": "f06e1fff",
   "metadata": {},
   "source": [
    "Going to use k means with 4 clusters, according to the above elbow plot."
   ]
  },
  {
   "cell_type": "code",
   "execution_count": 18,
   "id": "e796ee56",
   "metadata": {},
   "outputs": [
    {
     "data": {
      "text/html": [
       "<div>\n",
       "<style scoped>\n",
       "    .dataframe tbody tr th:only-of-type {\n",
       "        vertical-align: middle;\n",
       "    }\n",
       "\n",
       "    .dataframe tbody tr th {\n",
       "        vertical-align: top;\n",
       "    }\n",
       "\n",
       "    .dataframe thead th {\n",
       "        text-align: right;\n",
       "    }\n",
       "</style>\n",
       "<table border=\"1\" class=\"dataframe\">\n",
       "  <thead>\n",
       "    <tr style=\"text-align: right;\">\n",
       "      <th></th>\n",
       "      <th>Recency</th>\n",
       "      <th>Frequency</th>\n",
       "      <th>Monetary</th>\n",
       "      <th>Cluster</th>\n",
       "    </tr>\n",
       "    <tr>\n",
       "      <th>CustomerID</th>\n",
       "      <th></th>\n",
       "      <th></th>\n",
       "      <th></th>\n",
       "      <th></th>\n",
       "    </tr>\n",
       "  </thead>\n",
       "  <tbody>\n",
       "    <tr>\n",
       "      <th>12346</th>\n",
       "      <td>326</td>\n",
       "      <td>1</td>\n",
       "      <td>77183.60</td>\n",
       "      <td>3</td>\n",
       "    </tr>\n",
       "    <tr>\n",
       "      <th>12347</th>\n",
       "      <td>2</td>\n",
       "      <td>7</td>\n",
       "      <td>4310.00</td>\n",
       "      <td>0</td>\n",
       "    </tr>\n",
       "    <tr>\n",
       "      <th>12348</th>\n",
       "      <td>75</td>\n",
       "      <td>4</td>\n",
       "      <td>1797.24</td>\n",
       "      <td>0</td>\n",
       "    </tr>\n",
       "    <tr>\n",
       "      <th>12349</th>\n",
       "      <td>19</td>\n",
       "      <td>1</td>\n",
       "      <td>1757.55</td>\n",
       "      <td>0</td>\n",
       "    </tr>\n",
       "    <tr>\n",
       "      <th>12350</th>\n",
       "      <td>310</td>\n",
       "      <td>1</td>\n",
       "      <td>334.40</td>\n",
       "      <td>1</td>\n",
       "    </tr>\n",
       "  </tbody>\n",
       "</table>\n",
       "</div>"
      ],
      "text/plain": [
       "            Recency  Frequency  Monetary  Cluster\n",
       "CustomerID                                       \n",
       "12346           326          1  77183.60        3\n",
       "12347             2          7   4310.00        0\n",
       "12348            75          4   1797.24        0\n",
       "12349            19          1   1757.55        0\n",
       "12350           310          1    334.40        1"
      ]
     },
     "execution_count": 18,
     "metadata": {},
     "output_type": "execute_result"
    }
   ],
   "source": [
    "kmeans = KMeans(n_clusters=4, random_state=42, n_init=10)\n",
    "kmeans.fit(rfm_scaled)\n",
    "\n",
    "rfm['Cluster'] = kmeans.labels_\n",
    "\n",
    "rfm.head()"
   ]
  },
  {
   "cell_type": "code",
   "execution_count": 19,
   "id": "6b8c2663",
   "metadata": {},
   "outputs": [
    {
     "data": {
      "text/html": [
       "<div>\n",
       "<style scoped>\n",
       "    .dataframe tbody tr th:only-of-type {\n",
       "        vertical-align: middle;\n",
       "    }\n",
       "\n",
       "    .dataframe tbody tr th {\n",
       "        vertical-align: top;\n",
       "    }\n",
       "\n",
       "    .dataframe thead th {\n",
       "        text-align: right;\n",
       "    }\n",
       "</style>\n",
       "<table border=\"1\" class=\"dataframe\">\n",
       "  <thead>\n",
       "    <tr style=\"text-align: right;\">\n",
       "      <th></th>\n",
       "      <th>Recency</th>\n",
       "      <th>Frequency</th>\n",
       "      <th>Monetary</th>\n",
       "      <th>Count</th>\n",
       "    </tr>\n",
       "    <tr>\n",
       "      <th>Cluster</th>\n",
       "      <th></th>\n",
       "      <th></th>\n",
       "      <th></th>\n",
       "      <th></th>\n",
       "    </tr>\n",
       "  </thead>\n",
       "  <tbody>\n",
       "    <tr>\n",
       "      <th>0</th>\n",
       "      <td>43.702685</td>\n",
       "      <td>3.682711</td>\n",
       "      <td>1359.049284</td>\n",
       "      <td>3054</td>\n",
       "    </tr>\n",
       "    <tr>\n",
       "      <th>1</th>\n",
       "      <td>248.075914</td>\n",
       "      <td>1.552015</td>\n",
       "      <td>480.617480</td>\n",
       "      <td>1067</td>\n",
       "    </tr>\n",
       "    <tr>\n",
       "      <th>2</th>\n",
       "      <td>7.384615</td>\n",
       "      <td>82.538462</td>\n",
       "      <td>127338.313846</td>\n",
       "      <td>13</td>\n",
       "    </tr>\n",
       "    <tr>\n",
       "      <th>3</th>\n",
       "      <td>15.500000</td>\n",
       "      <td>22.333333</td>\n",
       "      <td>12709.090490</td>\n",
       "      <td>204</td>\n",
       "    </tr>\n",
       "  </tbody>\n",
       "</table>\n",
       "</div>"
      ],
      "text/plain": [
       "            Recency  Frequency       Monetary  Count\n",
       "Cluster                                             \n",
       "0         43.702685   3.682711    1359.049284   3054\n",
       "1        248.075914   1.552015     480.617480   1067\n",
       "2          7.384615  82.538462  127338.313846     13\n",
       "3         15.500000  22.333333   12709.090490    204"
      ]
     },
     "execution_count": 19,
     "metadata": {},
     "output_type": "execute_result"
    }
   ],
   "source": [
    "# Cluster profiling\n",
    "cluster_profile = rfm.groupby('Cluster').mean()[['Recency', 'Frequency', 'Monetary']]\n",
    "cluster_profile['Count'] = rfm['Cluster'].value_counts()\n",
    "\n",
    "cluster_profile"
   ]
  },
  {
   "cell_type": "markdown",
   "id": "c9b376dc",
   "metadata": {},
   "source": [
    "### Cluster Profiling Interpretation\n",
    "\n",
    "Cluster 0 – “Active but Low Value Customers”\n",
    "\n",
    "    Recency ~ 44 days → they purchased relatively recently.\n",
    "\n",
    "    Frequency ~ 3.7 → they buy occasionally.\n",
    "\n",
    "    Monetary ~ 1359 → they spend small amounts.\n",
    "\n",
    "Cluster 1 – “Inactive Customers”\n",
    "\n",
    "    Recency ~ 248 days → last purchase was long ago.\n",
    "\n",
    "    Frequency ~ 1.5 → very few purchases.\n",
    "\n",
    "    Monetary ~ 480 → very low spend.\n",
    "\n",
    "Cluster 2 – “VIP Customers”\n",
    "\n",
    "    Recency ~ 7 days → extremely recent.\n",
    "\n",
    "    Frequency ~ 82 → they buy a lot.\n",
    "\n",
    "    Monetary ~ 127k → extremely high spenders.\n",
    "    \n",
    "Cluster 3 – “Loyal Customers”\n",
    "\n",
    "    Recency ~ 15 days → recent buyers.\n",
    "\n",
    "    Frequency ~ 22 → very frequent buyers.\n",
    "\n",
    "    Monetary ~ 12k → very high spenders."
   ]
  },
  {
   "cell_type": "code",
   "execution_count": 20,
   "id": "8b598811",
   "metadata": {},
   "outputs": [
    {
     "data": {
      "text/html": [
       "<div>\n",
       "<style scoped>\n",
       "    .dataframe tbody tr th:only-of-type {\n",
       "        vertical-align: middle;\n",
       "    }\n",
       "\n",
       "    .dataframe tbody tr th {\n",
       "        vertical-align: top;\n",
       "    }\n",
       "\n",
       "    .dataframe thead th {\n",
       "        text-align: right;\n",
       "    }\n",
       "</style>\n",
       "<table border=\"1\" class=\"dataframe\">\n",
       "  <thead>\n",
       "    <tr style=\"text-align: right;\">\n",
       "      <th></th>\n",
       "      <th>InvoiceNo</th>\n",
       "      <th>StockCode</th>\n",
       "      <th>Description</th>\n",
       "      <th>Quantity</th>\n",
       "      <th>InvoiceDate</th>\n",
       "      <th>UnitPrice</th>\n",
       "      <th>CustomerID</th>\n",
       "      <th>Country</th>\n",
       "      <th>Cluster</th>\n",
       "    </tr>\n",
       "  </thead>\n",
       "  <tbody>\n",
       "    <tr>\n",
       "      <th>0</th>\n",
       "      <td>536365</td>\n",
       "      <td>85123A</td>\n",
       "      <td>WHITE HANGING HEART T-LIGHT HOLDER</td>\n",
       "      <td>6</td>\n",
       "      <td>2010-12-01 08:26:00</td>\n",
       "      <td>2.55</td>\n",
       "      <td>17850</td>\n",
       "      <td>United Kingdom</td>\n",
       "      <td>3</td>\n",
       "    </tr>\n",
       "    <tr>\n",
       "      <th>1</th>\n",
       "      <td>536365</td>\n",
       "      <td>71053</td>\n",
       "      <td>WHITE METAL LANTERN</td>\n",
       "      <td>6</td>\n",
       "      <td>2010-12-01 08:26:00</td>\n",
       "      <td>3.39</td>\n",
       "      <td>17850</td>\n",
       "      <td>United Kingdom</td>\n",
       "      <td>3</td>\n",
       "    </tr>\n",
       "    <tr>\n",
       "      <th>2</th>\n",
       "      <td>536365</td>\n",
       "      <td>84406B</td>\n",
       "      <td>CREAM CUPID HEARTS COAT HANGER</td>\n",
       "      <td>8</td>\n",
       "      <td>2010-12-01 08:26:00</td>\n",
       "      <td>2.75</td>\n",
       "      <td>17850</td>\n",
       "      <td>United Kingdom</td>\n",
       "      <td>3</td>\n",
       "    </tr>\n",
       "    <tr>\n",
       "      <th>3</th>\n",
       "      <td>536365</td>\n",
       "      <td>84029G</td>\n",
       "      <td>KNITTED UNION FLAG HOT WATER BOTTLE</td>\n",
       "      <td>6</td>\n",
       "      <td>2010-12-01 08:26:00</td>\n",
       "      <td>3.39</td>\n",
       "      <td>17850</td>\n",
       "      <td>United Kingdom</td>\n",
       "      <td>3</td>\n",
       "    </tr>\n",
       "    <tr>\n",
       "      <th>4</th>\n",
       "      <td>536365</td>\n",
       "      <td>84029E</td>\n",
       "      <td>RED WOOLLY HOTTIE WHITE HEART.</td>\n",
       "      <td>6</td>\n",
       "      <td>2010-12-01 08:26:00</td>\n",
       "      <td>3.39</td>\n",
       "      <td>17850</td>\n",
       "      <td>United Kingdom</td>\n",
       "      <td>3</td>\n",
       "    </tr>\n",
       "  </tbody>\n",
       "</table>\n",
       "</div>"
      ],
      "text/plain": [
       "  InvoiceNo StockCode                          Description  Quantity  \\\n",
       "0    536365    85123A   WHITE HANGING HEART T-LIGHT HOLDER         6   \n",
       "1    536365     71053                  WHITE METAL LANTERN         6   \n",
       "2    536365    84406B       CREAM CUPID HEARTS COAT HANGER         8   \n",
       "3    536365    84029G  KNITTED UNION FLAG HOT WATER BOTTLE         6   \n",
       "4    536365    84029E       RED WOOLLY HOTTIE WHITE HEART.         6   \n",
       "\n",
       "          InvoiceDate  UnitPrice  CustomerID         Country  Cluster  \n",
       "0 2010-12-01 08:26:00       2.55       17850  United Kingdom        3  \n",
       "1 2010-12-01 08:26:00       3.39       17850  United Kingdom        3  \n",
       "2 2010-12-01 08:26:00       2.75       17850  United Kingdom        3  \n",
       "3 2010-12-01 08:26:00       3.39       17850  United Kingdom        3  \n",
       "4 2010-12-01 08:26:00       3.39       17850  United Kingdom        3  "
      ]
     },
     "execution_count": 20,
     "metadata": {},
     "output_type": "execute_result"
    }
   ],
   "source": [
    "# now adding the clusters labels to the original dataset\n",
    "df_with_clusters = df.merge(\n",
    "    rfm[['Cluster']],  # only Cluster column from RFM\n",
    "    left_on='CustomerID',\n",
    "    right_index=True,\n",
    "    how='left'\n",
    ")\n",
    "\n",
    "df_with_clusters.head()"
   ]
  },
  {
   "cell_type": "code",
   "execution_count": 36,
   "id": "9b243a24",
   "metadata": {},
   "outputs": [
    {
     "data": {
      "text/plain": [
       "0    255959\n",
       "1     30623\n",
       "2     28480\n",
       "3     82822\n",
       "Name: Cluster, dtype: int64"
      ]
     },
     "execution_count": 36,
     "metadata": {},
     "output_type": "execute_result"
    }
   ],
   "source": [
    "#this line will tell how many customers comes under each cluster\n",
    "df_with_clusters['Cluster'].value_counts().sort_index()"
   ]
  },
  {
   "cell_type": "markdown",
   "id": "203da22d",
   "metadata": {},
   "source": [
    "### Visualizations"
   ]
  },
  {
   "cell_type": "code",
   "execution_count": 35,
   "id": "bf62556f",
   "metadata": {},
   "outputs": [
    {
     "data": {
      "image/png": "[encoded data removed]",
      "text/plain": [
       "<Figure size 576x432 with 1 Axes>"
      ]
     },
     "metadata": {
      "needs_background": "light"
     },
     "output_type": "display_data"
    }
   ],
   "source": [
    "import matplotlib.pyplot as plt\n",
    "cluster_counts = df_with_clusters['Cluster'].value_counts().sort_index()\n",
    "cluster_ids = cluster_counts.index.astype(str)\n",
    "row_counts = cluster_counts.values\n",
    "\n",
    "\n",
    "plt.figure(figsize=(8, 6))\n",
    "\n",
    "plt.bar(cluster_ids, row_counts, color='skyblue')\n",
    "\n",
    "plt.title('Distribution of Customers Across Clusters', fontsize=16, weight='bold')\n",
    "plt.xlabel('Cluster', fontsize=12)\n",
    "plt.ylabel('Number of Customer', fontsize=12)\n",
    "\n",
    "plt.grid(axis='y', linestyle='--', alpha=0.7)\n",
    "\n",
    "plt.show()"
   ]
  },
  {
   "cell_type": "code",
   "execution_count": 28,
   "id": "c0261239",
   "metadata": {},
   "outputs": [
    {
     "data": {
      "image/png": "[encoded data removed]",
      "text/plain": [
       "<Figure size 1152x360 with 3 Axes>"
      ]
     },
     "metadata": {
      "needs_background": "light"
     },
     "output_type": "display_data"
    }
   ],
   "source": [
    "plt.figure(figsize=(16, 5))\n",
    "\n",
    "plt.subplot(1, 3, 1)\n",
    "sns.boxplot(x='Cluster', y='Recency', data=rfm.reset_index(), palette='Set2')\n",
    "plt.title(\"Recency by Cluster\")\n",
    "\n",
    "plt.subplot(1, 3, 2)\n",
    "sns.boxplot(x='Cluster', y='Frequency', data=rfm.reset_index(), palette='Set2')\n",
    "plt.title(\"Frequency by Cluster\")\n",
    "\n",
    "plt.subplot(1, 3, 3)\n",
    "sns.boxplot(x='Cluster', y='Monetary', data=rfm.reset_index(), palette='Set2')\n",
    "plt.title(\"Monetary by Cluster\")\n",
    "\n",
    "plt.tight_layout()\n",
    "plt.show()"
   ]
  },
  {
   "cell_type": "code",
   "execution_count": 29,
   "id": "39437550",
   "metadata": {},
   "outputs": [
    {
     "data": {
      "image/png": "[encoded data removed]",
      "text/plain": [
       "<Figure size 1152x360 with 3 Axes>"
      ]
     },
     "metadata": {
      "needs_background": "light"
     },
     "output_type": "display_data"
    },
    {
     "data": {
      "image/png": "[encoded data removed]",
      "text/plain": [
       "<Figure size 720x504 with 1 Axes>"
      ]
     },
     "metadata": {
      "needs_background": "light"
     },
     "output_type": "display_data"
    }
   ],
   "source": [
    "import seaborn as sns\n",
    "from mpl_toolkits.mplot3d import Axes3D\n",
    "\n",
    "centroids = kmeans.cluster_centers_\n",
    "\n",
    "centroids_original = scaler.inverse_transform(centroids)\n",
    "\n",
    "centroids_df = pd.DataFrame(\n",
    "    centroids_original,\n",
    "    columns=['Recency', 'Frequency', 'Monetary']\n",
    ")\n",
    "centroids_df['Cluster'] = range(len(centroids_df))\n",
    "\n",
    "\n",
    "plt.figure(figsize=(16, 5))\n",
    "\n",
    "# Recency vs Frequency\n",
    "plt.subplot(1, 3, 1)\n",
    "sns.scatterplot(\n",
    "    data=rfm.reset_index(),\n",
    "    x='Recency', y='Frequency',\n",
    "    hue='Cluster', palette='Set2', alpha=0.7\n",
    ")\n",
    "plt.scatter(\n",
    "    centroids_df['Recency'], centroids_df['Frequency'],\n",
    "    color='black', marker='X', s=200, label='Centroids'\n",
    ")\n",
    "plt.title(\"Recency vs Frequency by Cluster\")\n",
    "plt.legend()\n",
    "\n",
    "# Frequency vs Monetary\n",
    "plt.subplot(1, 3, 2)\n",
    "sns.scatterplot(\n",
    "    data=rfm.reset_index(),\n",
    "    x='Frequency', y='Monetary',\n",
    "    hue='Cluster', palette='Set2', alpha=0.7\n",
    ")\n",
    "plt.scatter(\n",
    "    centroids_df['Frequency'], centroids_df['Monetary'],\n",
    "    color='black', marker='X', s=200, label='Centroids'\n",
    ")\n",
    "plt.title(\"Frequency vs Monetary by Cluster\")\n",
    "plt.legend()\n",
    "\n",
    "# Recency vs Monetary\n",
    "plt.subplot(1, 3, 3)\n",
    "sns.scatterplot(\n",
    "    data=rfm.reset_index(),\n",
    "    x='Recency', y='Monetary',\n",
    "    hue='Cluster', palette='Set2', alpha=0.7\n",
    ")\n",
    "plt.scatter(\n",
    "    centroids_df['Recency'], centroids_df['Monetary'],\n",
    "    color='black', marker='X', s=200, label='Centroids'\n",
    ")\n",
    "plt.title(\"Recency vs Monetary by Cluster\")\n",
    "plt.legend()\n",
    "\n",
    "plt.tight_layout()\n",
    "plt.show()\n",
    "\n",
    "\n",
    "fig = plt.figure(figsize=(10, 7))\n",
    "ax = fig.add_subplot(111, projection='3d')\n",
    "\n",
    "scatter = ax.scatter(\n",
    "    rfm['Recency'], rfm['Frequency'], rfm['Monetary'],\n",
    "    c=rfm['Cluster'], cmap='Set2', s=50, alpha=0.6\n",
    ")\n",
    "\n",
    "ax.scatter(\n",
    "    centroids_df['Recency'], centroids_df['Frequency'], centroids_df['Monetary'],\n",
    "    color='black', marker='X', s=300, label='Centroids'\n",
    ")\n",
    "\n",
    "ax.set_title(\"3D Customer Segmentation with Centroids\")\n",
    "ax.set_xlabel(\"Recency\")\n",
    "ax.set_ylabel(\"Frequency\")\n",
    "ax.set_zlabel(\"Monetary\")\n",
    "\n",
    "legend1 = ax.legend(*scatter.legend_elements(), title=\"Clusters\", loc=\"upper right\")\n",
    "ax.add_artist(legend1)\n",
    "ax.legend()\n",
    "\n",
    "plt.show()"
   ]
  }
 ],
 "metadata": {
  "kernelspec": {
   "display_name": "Python 3 (ipykernel)",
   "language": "python",
   "name": "python3"
  },
  "language_info": {
   "codemirror_mode": {
    "name": "ipython",
    "version": 3
   },
   "file_extension": ".py",
   "mimetype": "text/x-python",
   "name": "python",
   "nbconvert_exporter": "python",
   "pygments_lexer": "ipython3",
   "version": "3.9.12"
  }
 },
 "nbformat": 4,
 "nbformat_minor": 5
}
